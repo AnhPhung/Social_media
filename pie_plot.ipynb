{
 "cells": [
  {
   "cell_type": "markdown",
   "metadata": {
    "collapsed": false
   },
   "source": [
    "# Introduction\n",
    "\n",
    "This script creates simple interactive plots to visualize how cosmetic brands are reprenseted on social media, specifically Youtube platform, by looking at the numbers of video generated relating to each brand and its related statistics."
   ]
  },
  {
   "cell_type": "code",
   "execution_count": 1,
   "metadata": {
    "collapsed": false
   },
   "outputs": [],
   "source": [
    "import json\n",
    "import pandas as pd\n",
    "import dateutil.parser\n",
    "import plotly.tools as tls"
   ]
  },
  {
   "cell_type": "code",
   "execution_count": 2,
   "metadata": {
    "collapsed": false
   },
   "outputs": [],
   "source": [
    "import Config\n",
    "tls.set_credentials_file(username=Config.plotly_developer_name(), api_key=Config.plotly_developer_key())"
   ]
  },
  {
   "cell_type": "markdown",
   "metadata": {},
   "source": [
    "# Video data \n",
    "\n",
    "We first read json files with attributes of videos and channels to dataframe. For video, we keep informations and statistics about each video as follow:\n",
    "* video_id: an unique string identifying a video\n",
    "* video_channelId: an unique string identifying the channel of a video\n",
    "* video_categoryId: an interget identifying the category of a video\n",
    "* video_title: displayed title of a video\n",
    "* video_time: date and time when a video was published\n",
    "* video_comment: the number of comment of a video\n",
    "* view_view: the number of view of a video\n",
    "* keyword: string used in search bar to retrieve the video\n",
    "* video_like: the number of likes of a video\n",
    "* video_dislike: the number of dislikes of a video\n",
    "* video_year: year when video was published\n",
    "* video_month: month when video was published"
   ]
  },
  {
   "cell_type": "code",
   "execution_count": 3,
   "metadata": {
    "collapsed": false
   },
   "outputs": [],
   "source": [
    "with open('video_property.txt') as f:\n",
    "    video_data = json.load(f)"
   ]
  },
  {
   "cell_type": "code",
   "execution_count": 4,
   "metadata": {
    "collapsed": false
   },
   "outputs": [],
   "source": [
    "# Dataframe with video's attributes\n",
    "video_id = []\n",
    "video_channelId = []\n",
    "video_categoryId = []\n",
    "video_title = []\n",
    "video_time = []\n",
    "video_comment = []\n",
    "video_view = []\n",
    "keyword = []\n",
    "video_like = []\n",
    "video_dislike = []\n",
    "video_year = []\n",
    "video_month = []\n",
    "\n",
    "for brand in video_data.keys():\n",
    "    for video in video_data[brand]:\n",
    "        keyword.append(brand)\n",
    "        try:\n",
    "            video_id.append(video['items'][0]['id'])\n",
    "        except:\n",
    "            video_id.append(None)\n",
    "        try:\n",
    "            video_channelId.append(video['items'][0]['snippet']['channelId'])\n",
    "        except:\n",
    "            video_channelId.append(None)\n",
    "        try:\n",
    "            video_categoryId.append(video['items'][0]['snippet']['categoryId'])\n",
    "        except:\n",
    "            video_categoryId.append(None)\n",
    "        try:\n",
    "            video_title.append(video['items'][0]['snippet']['title'])\n",
    "        except:\n",
    "            video_title.append(None)\n",
    "        try:\n",
    "            video_time.append(dateutil.parser.parse(video['items'][0]['snippet']['publishedAt']))\n",
    "        except:\n",
    "            video_time.append(None)\n",
    "        try:\n",
    "            video_comment.append(int(video['items'][0]['statistics']['commentCount']))\n",
    "        except:\n",
    "            video_comment.append(None)\n",
    "        try:\n",
    "            video_view.append(int(video['items'][0]['statistics']['viewCount']))\n",
    "        except:\n",
    "            video_view.append(None)\n",
    "        try:\n",
    "            video_like.append(int(video['items'][0]['statistics']['likeCount']))\n",
    "        except:\n",
    "            video_like.append(None)\n",
    "        try:\n",
    "            video_dislike.append(int(video['items'][0]['statistics']['dislikeCount']))\n",
    "        except:\n",
    "            video_dislike.append(None)\n",
    "        try:\n",
    "            video_month.append(dateutil.parser.parse(video['items'][0]['snippet']['publishedAt']).month)\n",
    "        except:\n",
    "            video.month.append(None)\n",
    "        try:\n",
    "            video_year.append(dateutil.parser.parse(video['items'][0]['snippet']['publishedAt']).year)\n",
    "        except:\n",
    "            video_year.append(None)\n",
    "video_df = pd.DataFrame({'id': video_id, 'channel_id': video_channelId, 'category_id': video_categoryId, 'keyword': keyword,\n",
    "                   'title': video_title, 'time': video_time, 'comment': video_comment, 'view': video_view,\n",
    "                  'like': video_like, 'dislike': video_dislike, 'year': video_year, 'month': video_month})\n",
    "video_df = video_df.drop_duplicates(subset = 'id')\n",
    "\n",
    "# Only keeps video in categories 'Howto & Style', 'People & Blogs' or 'Entertainment'\n",
    "cat_chosen = ['26', '22', '24']\n",
    "video_df = video_df[video_df['category_id'].isin(cat_chosen)]"
   ]
  },
  {
   "cell_type": "markdown",
   "metadata": {},
   "source": [
    "# Channel data\n",
    "\n",
    "We read channel information to dataframe. The channel information helps us to determine what type of youtube channel it is based on the number of subscriptions. \n"
   ]
  },
  {
   "cell_type": "code",
   "execution_count": 5,
   "metadata": {
    "collapsed": true
   },
   "outputs": [],
   "source": [
    "with open('channel_info.txt') as f:\n",
    "     channel_data = json.load(f)"
   ]
  },
  {
   "cell_type": "code",
   "execution_count": 6,
   "metadata": {
    "collapsed": false
   },
   "outputs": [],
   "source": [
    "# Datafram with channel's attributes\n",
    "channel_sub = []\n",
    "channel_country = []\n",
    "channel_title = []\n",
    "channelId = []\n",
    "for channel_id in channel_data.keys():\n",
    "    channelId.append(channel_id)\n",
    "    try:\n",
    "        channel_sub.append(int(channel_data[channel_id]['items'][0]['statistics']['subscriberCount']))\n",
    "    except:\n",
    "        channel_sub.append(None)\n",
    "    try:\n",
    "        channel_country.append(channel_data[channel_id]['items'][0]['snippet']['country'])\n",
    "    except:\n",
    "        channel_country.append(None)\n",
    "    try:\n",
    "        channel_title.append(channel_data[channel_id]['items'][0]['snippet']['title'])\n",
    "    except:\n",
    "        channel_title.append(None)\n",
    "        \n",
    "channel_df = pd.DataFrame({'id': channelId, 'title': channel_title, 'subscription_count': channel_sub})\n",
    "channel_df = channel_df.drop_duplicates(subset = 'id')\n"
   ]
  },
  {
   "cell_type": "markdown",
   "metadata": {},
   "source": [
    "# Plotting\n",
    "Next, we create plots to show how many view, like and dislike brands get from Youtube platform over the month. "
   ]
  },
  {
   "cell_type": "code",
   "execution_count": 7,
   "metadata": {
    "collapsed": false
   },
   "outputs": [
    {
     "name": "stderr",
     "output_type": "stream",
     "text": [
      "c:\\users\\anh\\anaconda3\\envs\\plotly\\lib\\site-packages\\IPython\\html.py:14: ShimWarning:\n",
      "\n",
      "The `IPython.html` package has been deprecated. You should import from `notebook` instead. `IPython.html.widgets` has moved to `ipywidgets`.\n",
      "\n",
      "c:\\users\\anh\\anaconda3\\envs\\plotly\\lib\\site-packages\\IPython\\utils\\traitlets.py:5: UserWarning:\n",
      "\n",
      "IPython.utils.traitlets has moved to a top-level traitlets package.\n",
      "\n"
     ]
    },
    {
     "data": {
      "application/javascript": [
       "window.genUID = function() {\n",
       "    return 'xxxxxxxx-xxxx-4xxx-yxxx-xxxxxxxxxxxx'.replace(/[xy]/g, function(c) {\n",
       "        var r = Math.random()*16|0, v = c == 'x' ? r : (r&0x3|0x8);\n",
       "        return v.toString(16);\n",
       "    });\n",
       "};\n",
       "\n",
       "var IPYTHON_VERSION = '3';\n",
       "\n",
       "require([\"widgets/js/widget\", \"widgets/js/manager\"], function (widget, manager) {\n",
       "    if (!('DOMWidgetView' in widget)) {\n",
       "\n",
       "        // we're in IPython2, things moved a bit from 2 --> 3.\n",
       "        // construct the expected IPython3 widget API\n",
       "        IPYTHON_VERSION = '2';\n",
       "        manager = {WidgetManager: widget};\n",
       "        widget = {DOMWidgetView: IPython.DOMWidgetView};\n",
       "    }\n",
       "\n",
       "    var GraphView = widget.DOMWidgetView.extend({\n",
       "        render: function(){\n",
       "            var that = this;\n",
       "\n",
       "            var graphId = window.genUID();\n",
       "            var loadingId = 'loading-'+graphId;\n",
       "\n",
       "\n",
       "            var _graph_url = that.model.get('_graph_url');\n",
       "\n",
       "            // variable plotlyDomain in the case of enterprise\n",
       "            var url_parts = _graph_url.split('/');\n",
       "            var plotlyDomain = url_parts[0] + '//' + url_parts[2];\n",
       "\n",
       "            if(!('plotlyDomains' in window)){\n",
       "                window.plotlyDomains = {};\n",
       "            }\n",
       "            window.plotlyDomains[graphId] = plotlyDomain;\n",
       "\n",
       "            // Place IFrame in output cell div `$el`\n",
       "            that.$el.css('width', '100%');\n",
       "            that.$graph = $(['<iframe id=\"'+graphId+'\"',\n",
       "                             'src=\"'+_graph_url+'.embed\"',\n",
       "                             'seamless',\n",
       "                             'style=\"border: none;\"',\n",
       "                             'width=\"100%\"',\n",
       "                             'height=\"600\">',\n",
       "                             '</iframe>'].join(' '));\n",
       "            that.$graph.appendTo(that.$el);\n",
       "\n",
       "            that.$loading = $('<div id=\"'+loadingId+'\">Initializing...</div>')\n",
       "                            .appendTo(that.$el);\n",
       "\n",
       "            // for some reason the 'width' is being changed in IPython 3.0.0\n",
       "            // for the containing `div` element. There's a flicker here, but\n",
       "            // I was unable to fix it otherwise.\n",
       "            setTimeout(function ()  {\n",
       "                if (IPYTHON_VERSION === '3') {\n",
       "                    $('#' + graphId)[0].parentElement.style.width = '100%';\n",
       "                }\n",
       "            }, 500);\n",
       "\n",
       "            // initialize communication with the iframe\n",
       "            if(!('pingers' in window)){\n",
       "                window.pingers = {};\n",
       "            }\n",
       "\n",
       "            window.pingers[graphId] = setInterval(function() {\n",
       "                that.graphContentWindow = $('#'+graphId)[0].contentWindow;\n",
       "                that.graphContentWindow.postMessage({task: 'ping'}, plotlyDomain);\n",
       "            }, 200);\n",
       "\n",
       "            // Assign a message listener to the 'message' events\n",
       "            // from iframe's postMessage protocol.\n",
       "            // Filter the messages by iframe src so that the right message\n",
       "            // gets passed to the right widget\n",
       "            if(!('messageListeners' in window)){\n",
       "                 window.messageListeners = {};\n",
       "            }\n",
       "\n",
       "            window.messageListeners[graphId] = function(e) {\n",
       "                if(_graph_url.indexOf(e.origin)>-1) {\n",
       "                    var frame = document.getElementById(graphId);\n",
       "\n",
       "                    if(frame === null){\n",
       "                        // frame doesn't exist in the dom anymore, clean up it's old event listener\n",
       "                        window.removeEventListener('message', window.messageListeners[graphId]);\n",
       "                        clearInterval(window.pingers[graphId]);\n",
       "                    } else if(frame.contentWindow === e.source) {\n",
       "                        // TODO: Stop event propagation, so each frame doesn't listen and filter\n",
       "                        var frameContentWindow = $('#'+graphId)[0].contentWindow;\n",
       "                        var message = e.data;\n",
       "\n",
       "                        if('pong' in message && message.pong) {\n",
       "                            $('#loading-'+graphId).hide();\n",
       "                            clearInterval(window.pingers[graphId]);\n",
       "                            that.send({event: 'pong', graphId: graphId});\n",
       "                        } else if (message.type==='hover' ||\n",
       "                                   message.type==='zoom'  ||\n",
       "                                   message.type==='click' ||\n",
       "                                   message.type==='unhover') {\n",
       "\n",
       "                            // click and hover events contain all of the data in the traces,\n",
       "                            // which can be a very large object and may take a ton of time\n",
       "                            // to pass to the python backend. Strip out the data, and require\n",
       "                            // the user to call get_figure if they need trace information\n",
       "                            if(message.type !== 'zoom') {\n",
       "                                for(var i in message.points) {\n",
       "                                    delete message.points[i].data;\n",
       "                                    delete message.points[i].fullData;\n",
       "                                }\n",
       "                            }\n",
       "                            that.send({event: message.type, message: message, graphId: graphId});\n",
       "                        } else if (message.task === 'getAttributes') {\n",
       "                            that.send({event: 'getAttributes', response: message.response});\n",
       "                        }\n",
       "                    }\n",
       "                }\n",
       "            };\n",
       "\n",
       "            window.removeEventListener('message', window.messageListeners[graphId]);\n",
       "            window.addEventListener('message', window.messageListeners[graphId]);\n",
       "\n",
       "        },\n",
       "\n",
       "        update: function() {\n",
       "            // Listen for messages from the graph widget in python\n",
       "            var jmessage = this.model.get('_message');\n",
       "            var message = JSON.parse(jmessage);\n",
       "\n",
       "            // check for duplicate messages\n",
       "            if(!('messageIds' in window)){\n",
       "                window.messageIds = {};\n",
       "            }\n",
       "\n",
       "            if(!(message.uid in window.messageIds)){\n",
       "                // message hasn't been received yet, do stuff\n",
       "                window.messageIds[message.uid] = true;\n",
       "\n",
       "                if (message.fadeTo) {\n",
       "                    this.fadeTo(message);\n",
       "                } else {\n",
       "                    var plot = $('#' + message.graphId)[0].contentWindow;\n",
       "                    plot.postMessage(message, window.plotlyDomains[message.graphId]);\n",
       "                }\n",
       "            }\n",
       "\n",
       "            return GraphView.__super__.update.apply(this);\n",
       "        },\n",
       "\n",
       "        /**\n",
       "         * Wrapper for jquery's `fadeTo` function.\n",
       "         *\n",
       "         * @param message Contains the id we need to find the element.\n",
       "         */\n",
       "        fadeTo: function (message) {\n",
       "            var plot = $('#' + message.graphId);\n",
       "            plot.fadeTo(message.duration, message.opacity);\n",
       "        }\n",
       "    });\n",
       "\n",
       "    // Register the GraphView with the widget manager.\n",
       "    manager.WidgetManager.register_widget_view('GraphView', GraphView);\n",
       "\n",
       "});\n",
       "\n",
       "//@ sourceURL=graphWidget.js\n"
      ],
      "text/plain": [
       "<IPython.core.display.Javascript object>"
      ]
     },
     "metadata": {},
     "output_type": "display_data"
    }
   ],
   "source": [
    "import ipywidgets as widgets\n",
    "import plotly.plotly as py\n",
    "from plotly.graph_objs import *\n",
    "from plotly.widgets import GraphWidget\n",
    "from IPython.display import display"
   ]
  },
  {
   "cell_type": "markdown",
   "metadata": {},
   "source": [
    "We are grouping view, like, and dislike counts by months and plotting the cummulative values for each brand."
   ]
  },
  {
   "cell_type": "code",
   "execution_count": 8,
   "metadata": {
    "collapsed": false
   },
   "outputs": [],
   "source": [
    "cummulative_view = []\n",
    "cummulative_like = []\n",
    "cummulative_dislike = []\n",
    "ts_view = []\n",
    "ts_like = []\n",
    "ts_dislike = []\n",
    "\n",
    "series = pd.DataFrame(video_df[['view','like','dislike','keyword']])\n",
    "series.index = video_df.time\n",
    "for brand in series.keyword.unique():\n",
    "    \n",
    "    # Time series of view, like, dislike counts by month\n",
    "    tem = series[series.keyword == brand].resample('M').sum().replace(to_replace='NaN', value=0)\n",
    "    ts_view.append(graph_objs.Scatter(x=tem.index, y=tem.view, name=brand))\n",
    "    ts_like.append(graph_objs.Scatter(x=tem.index, y=tem.like, name=brand))\n",
    "    ts_dislike.append(graph_objs.Scatter(x=tem.index, y=tem.dislike, name=brand))\n",
    "\n",
    "    \n",
    "    # Cumulative time series of view, like, dislike counts by month\n",
    "    tem = series[series.keyword == brand].resample('M').sum().replace(to_replace='NaN', value=0).cumsum()\n",
    "    cummulative_view.append(graph_objs.Scatter(x=tem.index, y=tem.view, name=brand))\n",
    "    cummulative_like.append(graph_objs.Scatter(x=tem.index, y=tem.like, name=brand))\n",
    "    cummulative_dislike.append(graph_objs.Scatter(x=tem.index, y=tem.dislike, name=brand))\n"
   ]
  },
  {
   "cell_type": "markdown",
   "metadata": {},
   "source": [
    "#### Cummulative view counts\n",
    "\n",
    "The graph shows cummulative view counts for each brand. View counts are grouped by month and year. Note that we can only obtain total view counts of a video and not the number of views at the time the video was produced."
   ]
  },
  {
   "cell_type": "code",
   "execution_count": 43,
   "metadata": {
    "collapsed": false
   },
   "outputs": [
    {
     "data": {
      "text/html": [
       "<iframe id=\"igraph\" scrolling=\"no\" style=\"border:none;\" seamless=\"seamless\" src=\"https://plot.ly/~anhphung/185.embed\" height=\"525px\" width=\"100%\"></iframe>"
      ],
      "text/plain": [
       "<plotly.tools.PlotlyDisplay object>"
      ]
     },
     "execution_count": 43,
     "metadata": {},
     "output_type": "execute_result"
    }
   ],
   "source": [
    "figure = Figure(data=Data(cummulative_view), layout=Layout(title='Cumulative view per month'))\n",
    "py.iplot(figure, filename='cumlative-view')"
   ]
  },
  {
   "cell_type": "markdown",
   "metadata": {},
   "source": [
    "#### Cummulative like counts\n",
    "\n",
    "Similarly, the next graph shows cummulative like counts for each brand."
   ]
  },
  {
   "cell_type": "code",
   "execution_count": 44,
   "metadata": {
    "collapsed": false
   },
   "outputs": [
    {
     "data": {
      "text/html": [
       "<iframe id=\"igraph\" scrolling=\"no\" style=\"border:none;\" seamless=\"seamless\" src=\"https://plot.ly/~anhphung/187.embed\" height=\"525px\" width=\"100%\"></iframe>"
      ],
      "text/plain": [
       "<plotly.tools.PlotlyDisplay object>"
      ]
     },
     "execution_count": 44,
     "metadata": {},
     "output_type": "execute_result"
    }
   ],
   "source": [
    "figure = Figure(data=Data(cummulative_like), layout=Layout(title='Cumulative like per month'))\n",
    "py.iplot(figure, filename='cumulative-like')"
   ]
  },
  {
   "cell_type": "markdown",
   "metadata": {},
   "source": [
    "#### Cummulative dislike counts\n",
    "\n",
    "And this shows cummulative dislike counts."
   ]
  },
  {
   "cell_type": "code",
   "execution_count": 22,
   "metadata": {
    "collapsed": false
   },
   "outputs": [
    {
     "data": {
      "text/html": [
       "<iframe id=\"igraph\" scrolling=\"no\" style=\"border:none;\" seamless=\"seamless\" src=\"https://plot.ly/~anhphung/189.embed\" height=\"525px\" width=\"100%\"></iframe>"
      ],
      "text/plain": [
       "<plotly.tools.PlotlyDisplay object>"
      ]
     },
     "execution_count": 22,
     "metadata": {},
     "output_type": "execute_result"
    }
   ],
   "source": [
    "figure = Figure(data=Data(cummulative_dislike), layout=Layout(title='Cumulative dislike per month'))\n",
    "py.iplot(figure, filename='cumulative-dislike')"
   ]
  },
  {
   "cell_type": "markdown",
   "metadata": {},
   "source": [
    "CoverGirl and Real Techniques are the two brands that seem to be have highest view counts among all. \n",
    "\n",
    "Real Techniques is an interesting case. If you haven't known, it is the brand created by Samantha and Nicola Chapman, who were the creators of Pixiwoo channel and part of the first beauty guru generation with over two millions subscriber up to date. I know they are popular but didn't aticipated this level of high view.\n",
    "\n",
    "Besides, Colourpop and Morphe are two new names in the industry and they seem to quickly catch up other well established brands such as Urban Decay and and Maybelline.\n",
    "\n",
    "CoverGirl has highest cummulative view counts but their like counts graph is less steep than the rest."
   ]
  },
  {
   "cell_type": "code",
   "execution_count": 46,
   "metadata": {
    "collapsed": false
   },
   "outputs": [
    {
     "data": {
      "text/html": [
       "<iframe id=\"igraph\" scrolling=\"no\" style=\"border:none;\" seamless=\"seamless\" src=\"https://plot.ly/~anhphung/193.embed\" height=\"525px\" width=\"100%\"></iframe>"
      ],
      "text/plain": [
       "<plotly.tools.PlotlyDisplay object>"
      ]
     },
     "execution_count": 46,
     "metadata": {},
     "output_type": "execute_result"
    }
   ],
   "source": [
    "figure = Figure(data=Data(ts_view), layout=Layout(title='Views per month'))\n",
    "py.iplot(figure, filename='ts-view')"
   ]
  },
  {
   "cell_type": "code",
   "execution_count": 15,
   "metadata": {
    "collapsed": false
   },
   "outputs": [
    {
     "data": {
      "text/html": [
       "<iframe id=\"igraph\" scrolling=\"no\" style=\"border:none;\" seamless=\"seamless\" src=\"https://plot.ly/~anhphung/195.embed\" height=\"525px\" width=\"100%\"></iframe>"
      ],
      "text/plain": [
       "<plotly.tools.PlotlyDisplay object>"
      ]
     },
     "execution_count": 15,
     "metadata": {},
     "output_type": "execute_result"
    }
   ],
   "source": [
    "figure = Figure(data=Data(ts_like), layout=Layout(title='Likes per month'))\n",
    "py.iplot(figure, filename='ts-like')"
   ]
  },
  {
   "cell_type": "code",
   "execution_count": 16,
   "metadata": {
    "collapsed": false
   },
   "outputs": [
    {
     "data": {
      "text/html": [
       "<iframe id=\"igraph\" scrolling=\"no\" style=\"border:none;\" seamless=\"seamless\" src=\"https://plot.ly/~anhphung/197.embed\" height=\"525px\" width=\"100%\"></iframe>"
      ],
      "text/plain": [
       "<plotly.tools.PlotlyDisplay object>"
      ]
     },
     "execution_count": 16,
     "metadata": {},
     "output_type": "execute_result"
    }
   ],
   "source": [
    "figure = Figure(data=Data(ts_dislike), layout=Layout(title='Dislikes per month'))\n",
    "py.iplot(figure, filename='ts-dislike')"
   ]
  },
  {
   "cell_type": "markdown",
   "metadata": {},
   "source": [
    "#### Pie Plot: Small Youtuber vs. Influencer\n",
    "Next, we could see how views and number of view count driven by different types of Youtuber. Youtube gives award when Youtuber reaches 100k, 1 mil and 10 mil subsrcibers. Therefore, we have four types of youtuber. \n",
    "\n",
    "* Small Youtuber: youtubers with less than 100,000 subscriber\n",
    "* Silver play: youtubers with the less than 1 million subscribers and more than or equal to 100,000 subscribers\n",
    "* Gold play: youtubers with less than 10 million subscribers and more than or equal to 1 million\n",
    "* Diamond play: youtubers with more than or equal to 10 million subscribers.\n",
    "\n",
    "We will look at the cases of Real Technique and Maybelline. There are two pie plots for each brand. First one shows the proportion of videos made by Youtuber types. Second one shows the proportion of views made up by Youtuber types."
   ]
  },
  {
   "cell_type": "code",
   "execution_count": 9,
   "metadata": {
    "collapsed": false
   },
   "outputs": [],
   "source": [
    "# set up figure\n",
    "fig = {\n",
    "    'data':[\n",
    "        {\n",
    "            'labels': ['Small Youtuber', 'Silver Play', 'Gold Play', 'Diamond Play'],\n",
    "            'domain':{'x': [0, .45]},\n",
    "            'type':'pie',\n",
    "            'direction': 'clockwise',\n",
    "            'sort': False,\n",
    "            'name': 'Video count'\n",
    "            \n",
    "        },\n",
    "        {\n",
    "            'labels': ['Small Youtuber', 'Silver Play', 'Gold Play', 'Diamond Play'],\n",
    "            'domain':{'x': [.55, 1]},\n",
    "            'type':'pie',\n",
    "            'direction': 'clockwise',\n",
    "            'sort': False,\n",
    "            'name': 'View count'\n",
    "            \n",
    "        }\n",
    "    ]\n",
    "}"
   ]
  },
  {
   "cell_type": "code",
   "execution_count": 13,
   "metadata": {
    "collapsed": false,
    "scrolled": true
   },
   "outputs": [],
   "source": [
    "# function plot\n",
    "# input brand name\n",
    "def pie_plot(key, filename):\n",
    "    noneplay = none_view = silverplay = silver_view = goldplay = gold_view = diamondplay = diamond_view = 0.0\n",
    "\n",
    "    tem_df = video_df[(video_df.keyword == key)]['id']\n",
    "    for video_id in tem_df:\n",
    "        channel = video_df[video_df['id'] == video_id].channel_id.item()\n",
    "        view = video_df[video_df['id'] == video_id].view.item()\n",
    "        tem = channel_df[channel_df['id'] == channel]['subscription_count'].item()\n",
    "\n",
    "        if tem < 100000:\n",
    "            noneplay += 1\n",
    "            none_view += view\n",
    "        elif tem < 1000000:\n",
    "            silverplay += 1\n",
    "            silver_view += view\n",
    "        elif tem < 10000000:\n",
    "            goldplay += 1\n",
    "            gold_view += view\n",
    "        elif tem >= 10000000:\n",
    "            diamondplay += 1\n",
    "            diamond_view += view\n",
    "\n",
    "    fig['data'][0]['values'] = [noneplay, silverplay, goldplay, diamondplay]\n",
    "    fig['data'][1]['values'] = [none_view, silver_view, gold_view, diamond_view]\n",
    "    fig['layout'] = {'title':'Pie plot for %s' %key}\n",
    "    return display(py.iplot(fig, filename=filename))"
   ]
  },
  {
   "cell_type": "code",
   "execution_count": 14,
   "metadata": {
    "collapsed": false
   },
   "outputs": [
    {
     "data": {
      "text/html": [
       "<iframe id=\"igraph\" scrolling=\"no\" style=\"border:none;\" seamless=\"seamless\" src=\"https://plot.ly/~anhphung/203.embed\" height=\"525px\" width=\"100%\"></iframe>"
      ],
      "text/plain": [
       "<plotly.tools.PlotlyDisplay object>"
      ]
     },
     "metadata": {},
     "output_type": "display_data"
    }
   ],
   "source": [
    "pie_plot('real_technique', filename='pie-realtechnique')"
   ]
  },
  {
   "cell_type": "code",
   "execution_count": 15,
   "metadata": {
    "collapsed": false
   },
   "outputs": [
    {
     "data": {
      "text/html": [
       "<iframe id=\"igraph\" scrolling=\"no\" style=\"border:none;\" seamless=\"seamless\" src=\"https://plot.ly/~anhphung/205.embed\" height=\"525px\" width=\"100%\"></iframe>"
      ],
      "text/plain": [
       "<plotly.tools.PlotlyDisplay object>"
      ]
     },
     "metadata": {},
     "output_type": "display_data"
    }
   ],
   "source": [
    "pie_plot('maybelline', filename='pie-maybelline')"
   ]
  },
  {
   "cell_type": "markdown",
   "metadata": {},
   "source": [
    "Even though small Youtubers produce majority of videos, most of the views are generated from big Youtubers. Real Technique seems to have about 80% views from big Youtubers while less than 30% videos made by them. Same case applies to Maybelline."
   ]
  },
  {
   "cell_type": "markdown",
   "metadata": {},
   "source": [
    "#### Interactive widget for pie plot\n",
    "\n",
    "Lastly, we create interactive widgets to show throughout the years:\n",
    "1. The percentage of videos made by each type of Youtuber\n",
    "2. The percentage of views generated by each type of Youtuber\n",
    "\n",
    "Some brands have longer history than others. Therefore, if no chart is generated for any year for a brand, it means we do not have data to display. For the two most recent years of 2015 and 2016, we should have data for all brands.\n",
    "\n",
    "The widgets require Python kernel to show up."
   ]
  },
  {
   "cell_type": "code",
   "execution_count": 35,
   "metadata": {
    "collapsed": false
   },
   "outputs": [],
   "source": [
    "# Define widgets\n",
    "year_min = video_df.year.min()\n",
    "year_max = video_df.year.max()\n",
    "year_slide = widgets.widget_int.IntSlider(min = year_min, max = year_max)\n",
    "year_slide.description = 'Year'\n",
    "year_slide.value = year_min\n",
    "\n",
    "brand_button = widgets.widget_selection.RadioButtons()\n",
    "brand_button.description = 'Brand'\n",
    "brand_button.options = {'Colourpop': 'colourpop',\n",
    "                       'CoverGirl': 'cover_girl',\n",
    "                       'Maybelline': 'maybelline',\n",
    "                       'Morphe': 'morphe',\n",
    "                       'Real Technique': 'real_technique',\n",
    "                       'Urban Decay': 'urban_decay'}\n",
    "\n",
    "# Set up plot\n",
    "fig = {\n",
    "    'data':[\n",
    "        {\n",
    "            'values': [0,0,0,0],\n",
    "            'labels': ['Small Youtuber', 'Silver Play', 'Gold Play', 'Diamond Play'],\n",
    "            'domain':{'x': [0, .45]},\n",
    "            'type':'pie',\n",
    "            'direction': 'clockwise',\n",
    "            'sort': False,\n",
    "            'name': 'Video count'\n",
    "            \n",
    "        },\n",
    "        {\n",
    "            'values': [0,0,0,0],\n",
    "            'labels': ['Small Youtuber', 'Silver Play', 'Gold Play', 'Diamond Play'],\n",
    "            'domain':{'x': [.55, 1]},\n",
    "            'type':'pie',\n",
    "            'direction': 'clockwise',\n",
    "            'sort': False,\n",
    "            'name': 'View count'\n",
    "            \n",
    "        }\n",
    "    ]\n",
    "}\n",
    "\n",
    "url = py.plot(fig, auto_open=False, filename = 'Pie_plot')\n",
    "pie_count = GraphWidget(url)\n",
    "\n",
    "# Define what happens when widget's values change\n",
    "def on_trait_change(change):\n",
    "    year_value = year_slide.value\n",
    "    brand_value = brand_button.value\n",
    "    \n",
    "    \n",
    "    # Replot the pie on input change\n",
    "\n",
    "    noneplay = none_view = silverplay = silver_view = goldplay = gold_view = diamondplay = diamond_view = 0.0\n",
    "    \n",
    "    tem_df = video_df[(video_df.year == year_value) & (video_df.keyword == brand_value)]['id']\n",
    "    if tem_df.empty == False:\n",
    "        for video_id in tem_df:\n",
    "            channel = video_df[video_df['id'] == video_id].channel_id.item()\n",
    "            view = video_df[video_df['id'] == video_id].view.item()\n",
    "            tem = channel_df[channel_df['id'] == channel]['subscription_count'].item()\n",
    "\n",
    "            if tem < 100000:\n",
    "                noneplay += 1\n",
    "                none_view += view\n",
    "            elif tem < 1000000:\n",
    "                silverplay += 1\n",
    "                silver_view += view\n",
    "            elif tem < 10000000:\n",
    "                goldplay += 1\n",
    "                gold_view += view\n",
    "            elif tem >= 10000000:\n",
    "                diamondplay += 1\n",
    "                diamond_view += view\n",
    "                \n",
    "    pie_count.restyle({\n",
    "            'values':[[str(noneplay), str(silverplay), str(goldplay), str(diamondplay)],\n",
    "                     [str(none_view), str(silver_view), str(gold_view), str(diamond_view)]],\n",
    "        })\n",
    "year_slide.observe(on_trait_change, names='value')\n",
    "brand_button.observe(on_trait_change, names='value')"
   ]
  },
  {
   "cell_type": "code",
   "execution_count": 36,
   "metadata": {
    "collapsed": false
   },
   "outputs": [],
   "source": [
    "display(year_slide)\n",
    "display(brand_button)\n",
    "display(pie_count)"
   ]
  }
 ],
 "metadata": {
  "kernelspec": {
   "display_name": "Python 3",
   "language": "python",
   "name": "python3"
  },
  "language_info": {
   "codemirror_mode": {
    "name": "ipython",
    "version": 3
   },
   "file_extension": ".py",
   "mimetype": "text/x-python",
   "name": "python",
   "nbconvert_exporter": "python",
   "pygments_lexer": "ipython3",
   "version": "3.5.2"
  }
 },
 "nbformat": 4,
 "nbformat_minor": 0
}
