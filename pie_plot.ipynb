{
 "cells": [
  {
   "cell_type": "markdown",
   "metadata": {
    "collapsed": false
   },
   "source": [
    "# Introduction\n",
    "\n",
    "This script creates simple interactive plots to visualize how cosmetic brands are reprenseted on social media, specifically Youtube platform, by looking at the numbers of video generated relating to each brand and its related statistics."
   ]
  },
  {
   "cell_type": "code",
   "execution_count": 44,
   "metadata": {
    "collapsed": false
   },
   "outputs": [],
   "source": [
    "import json\n",
    "import pandas as pd\n",
    "import dateutil.parser\n",
    "import plotly.tools as tls"
   ]
  },
  {
   "cell_type": "code",
   "execution_count": 45,
   "metadata": {
    "collapsed": false
   },
   "outputs": [],
   "source": [
    "import Config\n",
    "tls.set_credentials_file(username=Config.plotly_developer_name, api_key=Config.plotly_developer_key)"
   ]
  },
  {
   "cell_type": "markdown",
   "metadata": {},
   "source": [
    "# Video data \n",
    "\n",
    "We first read json files with attributes of videos and channels to dataframe. For video, we keep informations and statistics about each video as follow:\n",
    "* video_id: an unique string identifying a video\n",
    "* video_channelId: an unique string identifying the channel of a video\n",
    "* video_categoryId: an interget identifying the category of a video\n",
    "* video_title: displayed title of a video\n",
    "* video_time: date and time when a video was published\n",
    "* video_comment: the number of comment of a video\n",
    "* view_view: the number of view of a video\n",
    "* keyword: string used in search bar to retrieve the video\n",
    "* video_like: the number of likes of a video\n",
    "* video_dislike: the number of dislikes of a video\n",
    "* video_year: year when video was published\n",
    "* video_month: month when video was published"
   ]
  },
  {
   "cell_type": "code",
   "execution_count": 46,
   "metadata": {
    "collapsed": false
   },
   "outputs": [],
   "source": [
    "with open('video_property.txt') as f:\n",
    "    video_data = json.load(f)"
   ]
  },
  {
   "cell_type": "code",
   "execution_count": 47,
   "metadata": {
    "collapsed": false
   },
   "outputs": [],
   "source": [
    "# Dataframe with video's attributes\n",
    "video_id = []\n",
    "video_channelId = []\n",
    "video_categoryId = []\n",
    "video_title = []\n",
    "video_time = []\n",
    "video_comment = []\n",
    "video_view = []\n",
    "keyword = []\n",
    "video_like = []\n",
    "video_dislike = []\n",
    "video_year = []\n",
    "video_month = []\n",
    "\n",
    "for brand in video_data.keys():\n",
    "    for video in video_data[brand]:\n",
    "        keyword.append(brand)\n",
    "        try:\n",
    "            video_id.append(video['items'][0]['id'])\n",
    "        except:\n",
    "            video_id.append(None)\n",
    "        try:\n",
    "            video_channelId.append(video['items'][0]['snippet']['channelId'])\n",
    "        except:\n",
    "            video_channelId.append(None)\n",
    "        try:\n",
    "            video_categoryId.append(video['items'][0]['snippet']['categoryId'])\n",
    "        except:\n",
    "            video_categoryId.append(None)\n",
    "        try:\n",
    "            video_title.append(video['items'][0]['snippet']['title'])\n",
    "        except:\n",
    "            video_title.append(None)\n",
    "        try:\n",
    "            video_time.append(dateutil.parser.parse(video['items'][0]['snippet']['publishedAt']))\n",
    "        except:\n",
    "            video_time.append(None)\n",
    "        try:\n",
    "            video_comment.append(int(video['items'][0]['statistics']['commentCount']))\n",
    "        except:\n",
    "            video_comment.append(None)\n",
    "        try:\n",
    "            video_view.append(int(video['items'][0]['statistics']['viewCount']))\n",
    "        except:\n",
    "            video_view.append(None)\n",
    "        try:\n",
    "            video_like.append(int(video['items'][0]['statistics']['likeCount']))\n",
    "        except:\n",
    "            video_like.append(None)\n",
    "        try:\n",
    "            video_dislike.append(int(video['items'][0]['statistics']['dislikeCount']))\n",
    "        except:\n",
    "            video_dislike.append(None)\n",
    "        try:\n",
    "            video_month.append(dateutil.parser.parse(video['items'][0]['snippet']['publishedAt']).month)\n",
    "        except:\n",
    "            video.month.append(None)\n",
    "        try:\n",
    "            video_year.append(dateutil.parser.parse(video['items'][0]['snippet']['publishedAt']).year)\n",
    "        except:\n",
    "            video_year.append(None)\n",
    "video_df = pd.DataFrame({'id': video_id, 'channel_id': video_channelId, 'category_id': video_categoryId, 'keyword': keyword,\n",
    "                   'title': video_title, 'time': video_time, 'comment': video_comment, 'view': video_view,\n",
    "                  'like': video_like, 'dislike': video_dislike, 'year': video_year, 'month': video_month})\n",
    "video_df = video_df.drop_duplicates(subset = 'id')"
   ]
  },
  {
   "cell_type": "markdown",
   "metadata": {},
   "source": [
    "# Channel data\n",
    "\n",
    "We read channel information to dataframe. The channel information helps us to determine what type of youtube channel it is based on the number of subscriptions. Youtube gives out awards when Youtubers reaches 100k, 1 mil and 10 mil subsrcibers. Therefore, we have four types of youtuber. \n",
    "\n",
    "* Small Youtuber: youtubers with less than 100,000 subscriber\n",
    "* Silver play: youtubers with the less than 1 million subscribers and more than or equal to 100,000 subscribers\n",
    "* Gold play: youtubers with less than 10 million subscribers and more than or equal to 1 million\n",
    "* Diamond play: youtubers with more than or equal to 10 million subscribers.\n",
    "\n",
    "The last three types are considered as youtuber influencer."
   ]
  },
  {
   "cell_type": "code",
   "execution_count": 48,
   "metadata": {
    "collapsed": true
   },
   "outputs": [],
   "source": [
    "with open('channel_info.txt') as f:\n",
    "     channel_data = json.load(f)"
   ]
  },
  {
   "cell_type": "code",
   "execution_count": 49,
   "metadata": {
    "collapsed": false
   },
   "outputs": [],
   "source": [
    "# Datafram with channel's attributes\n",
    "channel_sub = []\n",
    "channel_country = []\n",
    "channel_title = []\n",
    "channelId = []\n",
    "for channel_id in channel_data.keys():\n",
    "    channelId.append(channel_id)\n",
    "    try:\n",
    "        channel_sub.append(int(channel_data[channel_id]['items'][0]['statistics']['subscriberCount']))\n",
    "    except:\n",
    "        channel_sub.append(None)\n",
    "    try:\n",
    "        channel_country.append(channel_data[channel_id]['items'][0]['snippet']['country'])\n",
    "    except:\n",
    "        channel_country.append(None)\n",
    "    try:\n",
    "        channel_title.append(channel_data[channel_id]['items'][0]['snippet']['title'])\n",
    "    except:\n",
    "        channel_title.append(None)\n",
    "        \n",
    "channel_df = pd.DataFrame({'id': channelId, 'title': channel_title, 'subscription_count': channel_sub})\n",
    "channel_df = channel_df.drop_duplicates(subset = 'id')\n"
   ]
  },
  {
   "cell_type": "markdown",
   "metadata": {},
   "source": [
    "# Plotting\n",
    "Next, we create plots to show how many view, like and dislike brands get from Youtube platform over the month. We will also create widgets to show the how view counts driven by different type of Youtuber. Specifically, we are interested in two type of Youtubers, the Influencers and small Youtubers."
   ]
  },
  {
   "cell_type": "code",
   "execution_count": 50,
   "metadata": {
    "collapsed": false
   },
   "outputs": [],
   "source": [
    "import ipywidgets as widgets\n",
    "import plotly.plotly as py\n",
    "from plotly.graph_objs import *\n",
    "from plotly.widgets import GraphWidget\n",
    "from IPython.display import display"
   ]
  },
  {
   "cell_type": "markdown",
   "metadata": {},
   "source": [
    "We are grouping view, like, and dislike counts by months and plotting the cummulative values for each brand."
   ]
  },
  {
   "cell_type": "code",
   "execution_count": 108,
   "metadata": {
    "collapsed": false
   },
   "outputs": [],
   "source": [
    "cummulative_view = []\n",
    "cummulative_like = []\n",
    "cummulative_dislike = []\n",
    "\n",
    "series = pd.DataFrame(video_df[['view','like','dislike','keyword']])\n",
    "series.index = video_df.time\n",
    "for brand in series.keyword.unique():\n",
    "    tem = series[series.keyword == brand].resample('M', how='sum').replace(to_replace='NaN', value=0).cumsum()\n",
    "    cummulative_view.append(graph_objs.Scatter(x=tem.index, y=tem.view, name=brand))\n",
    "    cummulative_like.append(graph_objs.Scatter(x=tem.index, y=tem.like, name=brand))\n",
    "    cummulative_dislike.append(graph_objs.Scatter(x=tem.index, y=tem.dislike, name=brand))\n",
    "    "
   ]
  },
  {
   "cell_type": "markdown",
   "metadata": {},
   "source": [
    "#### Cummulative view counts"
   ]
  },
  {
   "cell_type": "code",
   "execution_count": 111,
   "metadata": {
    "collapsed": false
   },
   "outputs": [
    {
     "data": {
      "text/html": [
       "<iframe id=\"igraph\" scrolling=\"no\" style=\"border:none;\" seamless=\"seamless\" src=\"https://plot.ly/~anhphung/101.embed\" height=\"525px\" width=\"100%\"></iframe>"
      ],
      "text/plain": [
       "<plotly.tools.PlotlyDisplay object>"
      ]
     },
     "execution_count": 111,
     "metadata": {},
     "output_type": "execute_result"
    }
   ],
   "source": [
    "py.iplot(cummulative_view)"
   ]
  },
  {
   "cell_type": "markdown",
   "metadata": {},
   "source": [
    "#### Cummulative like counts"
   ]
  },
  {
   "cell_type": "code",
   "execution_count": 112,
   "metadata": {
    "collapsed": false
   },
   "outputs": [
    {
     "data": {
      "text/html": [
       "<iframe id=\"igraph\" scrolling=\"no\" style=\"border:none;\" seamless=\"seamless\" src=\"https://plot.ly/~anhphung/103.embed\" height=\"525px\" width=\"100%\"></iframe>"
      ],
      "text/plain": [
       "<plotly.tools.PlotlyDisplay object>"
      ]
     },
     "execution_count": 112,
     "metadata": {},
     "output_type": "execute_result"
    }
   ],
   "source": [
    "py.iplot(cummulative_like)"
   ]
  },
  {
   "cell_type": "markdown",
   "metadata": {},
   "source": [
    "#### Cummulative dislike counts"
   ]
  },
  {
   "cell_type": "code",
   "execution_count": 113,
   "metadata": {
    "collapsed": false
   },
   "outputs": [
    {
     "data": {
      "text/html": [
       "<iframe id=\"igraph\" scrolling=\"no\" style=\"border:none;\" seamless=\"seamless\" src=\"https://plot.ly/~anhphung/105.embed\" height=\"525px\" width=\"100%\"></iframe>"
      ],
      "text/plain": [
       "<plotly.tools.PlotlyDisplay object>"
      ]
     },
     "execution_count": 113,
     "metadata": {},
     "output_type": "execute_result"
    }
   ],
   "source": [
    "py.iplot(cummulative_dislike)"
   ]
  },
  {
   "cell_type": "markdown",
   "metadata": {},
   "source": [
    "CoverGirl and Real Techniques are the two brands that seem to be donimant over the rest. \n",
    "\n",
    "CoverGirl presentation on Youtube is quite a surprise for me. As a long time follower of this community, I personally feel like I didn't hear and see much about the brand from my subscribed gurus. Initially, I chose CoverGirl and Maybelline to be in this set of brands since I want to see how they perform compared to other new established brands such as Morphe, Real Technique and Colourpop. My initial thought were they would be slightly higher than the young names and Maybelline would be higher than CoverGirl. \n",
    "\n",
    "Real Techniques is another interesting case. If you haven't known, it is the brand created by Samantha and Nicola Chapman, who were the creators of Pixiwoo channel and part of the first beauty guru generation with over two millions subscriber up to date. I know they are popular but didn't aticipated this level of high view.\n",
    "\n",
    "For the rest of the brands, Colourpop and Morphe are two new names in the industry and they seem to quickly catch up with two well established brands Urban Decay and and Maybelline.\n"
   ]
  },
  {
   "cell_type": "code",
   "execution_count": 115,
   "metadata": {
    "collapsed": false
   },
   "outputs": [],
   "source": [
    "# Define widgets\n",
    "month_slide = widgets.widget_int.IntSlider(min=1, max=12)\n",
    "month_slide.description = 'Month'\n",
    "month_slide.value = 1\n",
    "\n",
    "year_min = video_df.year.min()\n",
    "year_max = video_df.year.max()\n",
    "year_slide = widgets.widget_int.IntSlider(min = year_min, max = year_max)\n",
    "year_slide.description = 'Year'\n",
    "year_slide.value = year_min\n",
    "\n",
    "brand_button = widgets.widget_selection.RadioButtons()\n",
    "brand_button.description = 'Brand'\n",
    "brand_button.options = {'Colourpop': 'colourpop',\n",
    "                       'CoverGirl': 'cover_girl',\n",
    "                       'Maybelline': 'maybelline',\n",
    "                       'Morphe': 'morphe',\n",
    "                       'Real Technique': 'real_technique',\n",
    "                       'Urban Decay': 'urban_decay'}\n",
    "\n",
    "# Set up plot\n",
    "fig = {\n",
    "    'data':[\n",
    "        {\n",
    "            'values': [0,0,0,0],\n",
    "            'labels': ['Small Youtuber', 'Silver Play', 'Gold Play', 'Diamond Play'],\n",
    "            'domain':{'x': [0, .45]},\n",
    "            'type':'pie',\n",
    "            'direction': 'clockwise',\n",
    "            'sort': False,\n",
    "            'name': 'Video count'\n",
    "            \n",
    "        },\n",
    "        {\n",
    "            'values': [0,0,0,0],\n",
    "            'labels': ['Small Youtuber', 'Silver Play', 'Gold Play', 'Diamond Play'],\n",
    "            'domain':{'x': [.55, 1]},\n",
    "            'type':'pie',\n",
    "            'direction': 'clockwise',\n",
    "            'sort': False,\n",
    "            'name': 'View count'\n",
    "            \n",
    "        }\n",
    "    ]\n",
    "#     'layout':{\n",
    "#         'annotations':[\n",
    "#             {\n",
    "#                 'font':{\n",
    "#                     'size': 25\n",
    "#                     },\n",
    "# #                 'text': 'Number of video',\n",
    "#                 'x': 0.1 ,\n",
    "#                 'y': 0,\n",
    "#                 'showarrow': False\n",
    "#         },\n",
    "#             {\n",
    "#                 'font':{\n",
    "#                     'size': 25\n",
    "#                 },\n",
    "# #                 'text': 'Number of view',\n",
    "#                 'x': 0.9,\n",
    "#                 'y': 0,\n",
    "#                 'showarrow': False\n",
    "#         }\n",
    "#     ]\n",
    "#     }\n",
    "}\n",
    "\n",
    "url = py.plot(fig, auto_open=False, filename = 'Pie_plot')\n",
    "pie_count = GraphWidget(url)\n",
    "\n",
    "# Define what happens when widget's values change\n",
    "def on_trait_change(change):\n",
    "    month_value = month_slide.value\n",
    "    year_value = year_slide.value\n",
    "    brand_value = brand_button.value\n",
    "    \n",
    "    \n",
    "    # Replot the pie on input change\n",
    "       \n",
    "    noneplay = 0\n",
    "    none_view = 0\n",
    "    silverplay = 0\n",
    "    silver_view = 0\n",
    "    goldplay = 0\n",
    "    gold_view = 0\n",
    "    diamondplay = 0\n",
    "    diamond_view = 0\n",
    "    \n",
    "    tem_df = video_df[(video_df.year == year_value) & (video_df.keyword == brand_value)]['id']\n",
    "    if tem_df.empty == False:\n",
    "        for video_id in tem_df:\n",
    "            channel = video_df[video_df['id'] == video_id].channel_id.item()\n",
    "            view = video_df[video_df['id'] == video_id].view.item()\n",
    "            tem = channel_df[channel_df['id'] == channel]['subscription_count'].item()\n",
    "\n",
    "            if tem < 100000:\n",
    "                noneplay += 1\n",
    "                none_view += view\n",
    "            elif tem < 1000000:\n",
    "                silverplay += 1\n",
    "                silver_view += view\n",
    "            elif tem < 10000000:\n",
    "                goldplay += 1\n",
    "                gold_view += view\n",
    "            elif tem >= 10000000:\n",
    "                diamondplay += 1\n",
    "                diamond_view += view\n",
    "                \n",
    "    pie_count.restyle({\n",
    "            'values':[[str(noneplay), str(silverplay), str(goldplay), str(diamondplay)],\n",
    "                     [str(none_view), str(silver_view), str(gold_view), str(diamond_view)]],\n",
    "        })\n",
    "\n",
    "    \n",
    "month_slide.observe(on_trait_change, names='value')\n",
    "year_slide.observe(on_trait_change, names='value')\n",
    "brand_button.observe(on_trait_change, names='value')"
   ]
  },
  {
   "cell_type": "markdown",
   "metadata": {
    "collapsed": true
   },
   "source": [
    "For each brand, we create interactive pie plots to show throughout the years\n",
    "1. The percentage of videos made by each type of Youtuber (left)\n",
    "2. The percentage of views generated by each type of Youtuber (right)\n",
    "\n",
    "Some brands have longer history than others. Therefore, if no chart is generated for any year for a brand, it means we do not have data to display. For the two most recent years of 2015 and 2016, we should have data for all brands."
   ]
  },
  {
   "cell_type": "code",
   "execution_count": 116,
   "metadata": {
    "collapsed": false
   },
   "outputs": [],
   "source": [
    "# Left pie plot shows percentage of videos made by each type of youtuber\n",
    "# Right pie plot shows percentage of views made up by each type of youtuber\n",
    "display(year_slide)\n",
    "display(brand_button)\n",
    "display(pie_count)"
   ]
  }
 ],
 "metadata": {
  "kernelspec": {
   "display_name": "Python 2",
   "language": "python",
   "name": "python2"
  },
  "language_info": {
   "codemirror_mode": {
    "name": "ipython",
    "version": 2
   },
   "file_extension": ".py",
   "mimetype": "text/x-python",
   "name": "python",
   "nbconvert_exporter": "python",
   "pygments_lexer": "ipython2",
   "version": "2.7.12"
  }
 },
 "nbformat": 4,
 "nbformat_minor": 0
}
