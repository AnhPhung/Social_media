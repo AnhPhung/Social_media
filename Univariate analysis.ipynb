{
 "cells": [
  {
   "cell_type": "code",
   "execution_count": 35,
   "metadata": {
    "collapsed": true
   },
   "outputs": [],
   "source": [
    "import statsmodels.formula.api as sm   \n",
    "import sklearn\n",
    "from sklearn.feature_extraction.text import CountVectorizer\n",
    "import numpy as np\n",
    "import pandas as pd\n",
    "from nltk.tokenize import word_tokenize\n",
    "import json\n",
    "import re\n",
    "from nltk.corpus import stopwords\n",
    "import nltk\n",
    "from sklearn.feature_extraction.text import TfidfVectorizer\n",
    "import matplotlib.pyplot as plt\n",
    "%matplotlib inline"
   ]
  },
  {
   "cell_type": "markdown",
   "metadata": {},
   "source": [
    "Read text data (comments) and clean them"
   ]
  },
  {
   "cell_type": "code",
   "execution_count": 3,
   "metadata": {
    "collapsed": true
   },
   "outputs": [],
   "source": [
    "# function to clean emoji, stopwords, etc\n",
    "def clean_text(text):\n",
    "\n",
    "    # remove emoji\n",
    "    myre = re.compile(u'('\n",
    "        u'\\ud83c[\\udf00-\\udfff]|'\n",
    "        u'\\ud83d[\\udc00-\\ude4f\\ude80-\\udeff]|'\n",
    "        u'[\\u2600-\\u26FF\\u2700-\\u27BF])+|'\n",
    "        u'\\ufeff|'\n",
    "        u'\\ufe0f|'\n",
    "        '\\n', \n",
    "        re.UNICODE)\n",
    "    text = myre.sub(' ', text)\n",
    "    \n",
    "    # clean string end\n",
    "    myre = re.compile('\\!+|\\?+|\\.+')\n",
    "    text = myre.sub('.', text)\n",
    "\n",
    "    # define stopwords  \n",
    "    stop = set(stopwords.words('english'))\n",
    "    \n",
    "    # tokenzie    \n",
    "    token = [t for t in word_tokenize(text.lower()) if (t not in stop) & (t.isalpha())]\n",
    "    \n",
    "    # lemmatize each token    \n",
    "    lemmatizer = nltk.stem.wordnet.WordNetLemmatizer()    \n",
    "    result = []\n",
    "    for t in token:\n",
    "        result.append(lemmatizer.lemmatize(lemmatizer.lemmatize(lemmatizer.lemmatize(t, pos='n'), pos='v'), pos='a'))\n",
    "                 \n",
    "    return (' '.join(result))"
   ]
  },
  {
   "cell_type": "code",
   "execution_count": 6,
   "metadata": {
    "collapsed": false
   },
   "outputs": [],
   "source": [
    "# X values: comment threads of each channel\n",
    "with open('comment_threads2.txt', 'r') as f:\n",
    "    data = json.load(f)"
   ]
  },
  {
   "cell_type": "code",
   "execution_count": 12,
   "metadata": {
    "collapsed": true
   },
   "outputs": [],
   "source": [
    "# extract top level comment in each comment threads \n",
    "comments= {}\n",
    "# concatenate all top level comments for each youtuber\n",
    "for k in data.keys():\n",
    "    toplevelcomment = ''\n",
    "    for video in data[k]:\n",
    "        for thread in video[0][0]['items']:\n",
    "            toplevelcomment += (thread['snippet']['topLevelComment']['snippet']['textDisplay'])            \n",
    "    comments[k] = toplevelcomment"
   ]
  },
  {
   "cell_type": "code",
   "execution_count": 15,
   "metadata": {
    "collapsed": false
   },
   "outputs": [],
   "source": [
    "# clean text\n",
    "for k in comments.keys():\n",
    "    comments[k] = clean_text(comments[k])"
   ]
  },
  {
   "cell_type": "markdown",
   "metadata": {},
   "source": [
    "Read Y values (subscriber count)"
   ]
  },
  {
   "cell_type": "code",
   "execution_count": 16,
   "metadata": {
    "collapsed": true
   },
   "outputs": [],
   "source": [
    "# Y values: number of subscriber of each channel\n",
    "with open('sub_count.txt', 'r') as f:\n",
    "    sub = json.load(f)    "
   ]
  },
  {
   "cell_type": "code",
   "execution_count": 17,
   "metadata": {
    "collapsed": true
   },
   "outputs": [],
   "source": [
    "comment = []\n",
    "Y = []\n",
    "\n",
    "for k in comments.keys():\n",
    "    comment.append(comments[k])\n",
    "    Y.append(sub[k])\n",
    "    \n",
    "df = {'comment': comment, 'Y': Y}"
   ]
  },
  {
   "cell_type": "markdown",
   "metadata": {},
   "source": [
    "Let us use tf-idf to calculate term frequency matrix of given text"
   ]
  },
  {
   "cell_type": "code",
   "execution_count": 19,
   "metadata": {
    "collapsed": true
   },
   "outputs": [],
   "source": [
    "# set max feature to 100 only\n",
    "tfidf_vectorizer = TfidfVectorizer(max_features=100, vocabulary = None)\n",
    "X = tfidf_vectorizer.fit_transform(df['comment']).toarray() # tfidf matrix\n",
    "vocab_attribute = tfidf_vectorizer.vocabulary_ # attributes\n",
    "X_df = pd.DataFrame(X, columns=vocab_attribute) #make datafram from tfidf matrix"
   ]
  },
  {
   "cell_type": "code",
   "execution_count": 42,
   "metadata": {
    "collapsed": false
   },
   "outputs": [
    {
     "name": "stdout",
     "output_type": "stream",
     "text": [
      "Top 100 term by tfidf are: \n",
      "want, friend, much, lipstick, also, video, could, guy, product, still, year, start, put, cute, miss, one, omg, would, first, talia, get, amaze, like, hair, need, long, nice, hi, new, best, never, life, people, happy, love, take, beautiful, always, see, hope, ca, live, pretty, go, keep, thank, tell, give, im, skin, back, buy, wish, every, color, good, use, foundation, awesome, palette, many, gorgeous, ur, try, face, way, help, lol, lot, look, well, makeup, thing, think, anyone, eye, watch, wear, tutorial, feel, melissa, say, favorite, really, great, work, make, lip, even, ever, wait, girl, channel, share, find, please, day, time, come, know,\n"
     ]
    }
   ],
   "source": [
    "print 'Top 100 term by tfidf are: ' \n",
    "for key in vocab_attribute.keys():\n",
    "    print key + ',',"
   ]
  },
  {
   "cell_type": "markdown",
   "metadata": {},
   "source": [
    "Let's check how each feature correlates with Y values"
   ]
  },
  {
   "cell_type": "code",
   "execution_count": 23,
   "metadata": {
    "collapsed": true
   },
   "outputs": [],
   "source": [
    "corr = []\n",
    "label = []\n",
    "i=0\n",
    "for key in vocab_attribute.keys():\n",
    "    corr.append(np.corrcoef(X[:,i], Y)[0,1])\n",
    "    label.append(key)\n",
    "    i +=1"
   ]
  },
  {
   "cell_type": "code",
   "execution_count": 56,
   "metadata": {
    "collapsed": false
   },
   "outputs": [
    {
     "data": {
      "image/png": "[encoded data removed]",
      "text/plain": [
       "<matplotlib.figure.Figure at 0x663d0cc0>"
      ]
     },
     "metadata": {},
     "output_type": "display_data"
    }
   ],
   "source": [
    "# plot correlation coefficient\n",
    "ind = np.arange(len(label))\n",
    "f, ax = plt.subplots(figsize=(12,20))\n",
    "rects = ax.barh(ind, corr, color='g')\n",
    "ax.set_yticks(ind+((width)/2.))\n",
    "ax.set_yticklabels(label, rotation='horizontal')\n",
    "ax.set_xlabel(\"Correlation coefficient\")\n",
    "plt.show()\n"
   ]
  },
  {
   "cell_type": "markdown",
   "metadata": {},
   "source": [
    "The correlation coefficients range from -0.6 to 0.78. It looks like half of the features have some kind of positive correlations and half negative. Let's try picking features with correlation coefficient greater than 0.4 or less than -0.4."
   ]
  },
  {
   "cell_type": "code",
   "execution_count": 58,
   "metadata": {
    "collapsed": false
   },
   "outputs": [
    {
     "name": "stdout",
     "output_type": "stream",
     "text": [
      "(u'lipstick', 0.74495817619107507) (u'put', 0.41396796654968643) (u'first', 0.49004592302724981) (u'happy', -0.57348826526163588) (u'pretty', 0.49028075919764869) (u'every', 0.62267461819553682) (u'face', 0.46961789642095025) (u'lol', 0.46861270578948411)\n"
     ]
    }
   ],
   "source": [
    "term_chosen = []\n",
    "for i in range(len(corr)):\n",
    "    if abs(corr[i]) > 0.4:\n",
    "        print (label[i], corr[i]),\n",
    "        term_chosen.append(label[i])"
   ]
  },
  {
   "cell_type": "markdown",
   "metadata": {},
   "source": [
    "Let's build a simple linear regression with the chosen features. \n",
    "\n",
    "Normalize Y to avoid large beta estimates."
   ]
  },
  {
   "cell_type": "code",
   "execution_count": 36,
   "metadata": {
    "collapsed": false
   },
   "outputs": [
    {
     "name": "stderr",
     "output_type": "stream",
     "text": [
      "C:\\Users\\Anh\\Anaconda2\\lib\\site-packages\\sklearn\\utils\\validation.py:395: DeprecationWarning: Passing 1d arrays as data is deprecated in 0.17 and will raise ValueError in 0.19. Reshape your data either using X.reshape(-1, 1) if your data has a single feature or X.reshape(1, -1) if it contains a single sample.\n",
      "  DeprecationWarning)\n"
     ]
    }
   ],
   "source": [
    "# normalize Y\n",
    "Y_normalized = sklearn.preprocessing.normalize(Y)[0]"
   ]
  },
  {
   "cell_type": "code",
   "execution_count": 61,
   "metadata": {
    "collapsed": false
   },
   "outputs": [
    {
     "data": {
      "text/html": [
       "<table class=\"simpletable\">\n",
       "<caption>OLS Regression Results</caption>\n",
       "<tr>\n",
       "  <th>Dep. Variable:</th>            <td>y</td>        <th>  R-squared:         </th> <td>   0.854</td>\n",
       "</tr>\n",
       "<tr>\n",
       "  <th>Model:</th>                   <td>OLS</td>       <th>  Adj. R-squared:    </th> <td>   0.818</td>\n",
       "</tr>\n",
       "<tr>\n",
       "  <th>Method:</th>             <td>Least Squares</td>  <th>  F-statistic:       </th> <td>   23.41</td>\n",
       "</tr>\n",
       "<tr>\n",
       "  <th>Date:</th>             <td>Mon, 05 Dec 2016</td> <th>  Prob (F-statistic):</th> <td>2.64e-11</td>\n",
       "</tr>\n",
       "<tr>\n",
       "  <th>Time:</th>                 <td>02:36:33</td>     <th>  Log-Likelihood:    </th> <td>  55.510</td>\n",
       "</tr>\n",
       "<tr>\n",
       "  <th>No. Observations:</th>      <td>    40</td>      <th>  AIC:               </th> <td>  -95.02</td>\n",
       "</tr>\n",
       "<tr>\n",
       "  <th>Df Residuals:</th>          <td>    32</td>      <th>  BIC:               </th> <td>  -81.51</td>\n",
       "</tr>\n",
       "<tr>\n",
       "  <th>Df Model:</th>              <td>     8</td>      <th>                     </th>     <td> </td>   \n",
       "</tr>\n",
       "<tr>\n",
       "  <th>Covariance Type:</th>      <td>nonrobust</td>    <th>                     </th>     <td> </td>   \n",
       "</tr>\n",
       "</table>\n",
       "<table class=\"simpletable\">\n",
       "<tr>\n",
       "      <td></td>        <th>coef</th>     <th>std err</th>      <th>t</th>      <th>P>|t|</th> <th>[95.0% Conf. Int.]</th> \n",
       "</tr>\n",
       "<tr>\n",
       "  <th>lipstick</th> <td>    4.1320</td> <td>    0.790</td> <td>    5.232</td> <td> 0.000</td> <td>    2.523     5.741</td>\n",
       "</tr>\n",
       "<tr>\n",
       "  <th>put</th>      <td>   -0.3727</td> <td>    0.868</td> <td>   -0.429</td> <td> 0.671</td> <td>   -2.141     1.396</td>\n",
       "</tr>\n",
       "<tr>\n",
       "  <th>first</th>    <td>    0.1267</td> <td>    1.621</td> <td>    0.078</td> <td> 0.938</td> <td>   -3.175     3.429</td>\n",
       "</tr>\n",
       "<tr>\n",
       "  <th>happy</th>    <td>   -0.6382</td> <td>    0.233</td> <td>   -2.739</td> <td> 0.010</td> <td>   -1.113    -0.164</td>\n",
       "</tr>\n",
       "<tr>\n",
       "  <th>pretty</th>   <td>   -1.4139</td> <td>    0.593</td> <td>   -2.384</td> <td> 0.023</td> <td>   -2.622    -0.206</td>\n",
       "</tr>\n",
       "<tr>\n",
       "  <th>every</th>    <td>    1.0432</td> <td>    0.295</td> <td>    3.542</td> <td> 0.001</td> <td>    0.443     1.643</td>\n",
       "</tr>\n",
       "<tr>\n",
       "  <th>face</th>     <td>    0.5124</td> <td>    0.371</td> <td>    1.382</td> <td> 0.177</td> <td>   -0.243     1.268</td>\n",
       "</tr>\n",
       "<tr>\n",
       "  <th>lol</th>      <td>   -0.2011</td> <td>    0.412</td> <td>   -0.488</td> <td> 0.629</td> <td>   -1.040     0.638</td>\n",
       "</tr>\n",
       "</table>\n",
       "<table class=\"simpletable\">\n",
       "<tr>\n",
       "  <th>Omnibus:</th>       <td> 3.906</td> <th>  Durbin-Watson:     </th> <td>   1.579</td>\n",
       "</tr>\n",
       "<tr>\n",
       "  <th>Prob(Omnibus):</th> <td> 0.142</td> <th>  Jarque-Bera (JB):  </th> <td>   3.358</td>\n",
       "</tr>\n",
       "<tr>\n",
       "  <th>Skew:</th>          <td> 0.200</td> <th>  Prob(JB):          </th> <td>   0.187</td>\n",
       "</tr>\n",
       "<tr>\n",
       "  <th>Kurtosis:</th>      <td> 4.362</td> <th>  Cond. No.          </th> <td>    36.2</td>\n",
       "</tr>\n",
       "</table>"
      ],
      "text/plain": [
       "<class 'statsmodels.iolib.summary.Summary'>\n",
       "\"\"\"\n",
       "                            OLS Regression Results                            \n",
       "==============================================================================\n",
       "Dep. Variable:                      y   R-squared:                       0.854\n",
       "Model:                            OLS   Adj. R-squared:                  0.818\n",
       "Method:                 Least Squares   F-statistic:                     23.41\n",
       "Date:                Mon, 05 Dec 2016   Prob (F-statistic):           2.64e-11\n",
       "Time:                        02:36:33   Log-Likelihood:                 55.510\n",
       "No. Observations:                  40   AIC:                            -95.02\n",
       "Df Residuals:                      32   BIC:                            -81.51\n",
       "Df Model:                           8                                         \n",
       "Covariance Type:            nonrobust                                         \n",
       "==============================================================================\n",
       "                 coef    std err          t      P>|t|      [95.0% Conf. Int.]\n",
       "------------------------------------------------------------------------------\n",
       "lipstick       4.1320      0.790      5.232      0.000         2.523     5.741\n",
       "put           -0.3727      0.868     -0.429      0.671        -2.141     1.396\n",
       "first          0.1267      1.621      0.078      0.938        -3.175     3.429\n",
       "happy         -0.6382      0.233     -2.739      0.010        -1.113    -0.164\n",
       "pretty        -1.4139      0.593     -2.384      0.023        -2.622    -0.206\n",
       "every          1.0432      0.295      3.542      0.001         0.443     1.643\n",
       "face           0.5124      0.371      1.382      0.177        -0.243     1.268\n",
       "lol           -0.2011      0.412     -0.488      0.629        -1.040     0.638\n",
       "==============================================================================\n",
       "Omnibus:                        3.906   Durbin-Watson:                   1.579\n",
       "Prob(Omnibus):                  0.142   Jarque-Bera (JB):                3.358\n",
       "Skew:                           0.200   Prob(JB):                        0.187\n",
       "Kurtosis:                       4.362   Cond. No.                         36.2\n",
       "==============================================================================\n",
       "\n",
       "Warnings:\n",
       "[1] Standard Errors assume that the covariance matrix of the errors is correctly specified.\n",
       "\"\"\""
      ]
     },
     "execution_count": 61,
     "metadata": {},
     "output_type": "execute_result"
    }
   ],
   "source": [
    "result = sm.OLS(Y_normalized, X_df[term_chosen] ).fit()\n",
    "result.summary()"
   ]
  },
  {
   "cell_type": "markdown",
   "metadata": {},
   "source": [
    "With this linear regression model, attributes 'lipstick', 'happy', 'pretty', 'every' are significant. The model has high R-squared which seems to predict Y well.\n",
    "\n",
    "Things to try as for next step:\n",
    "1. Different way to select features\n",
    "2. Expand sample size; divide into train and test set"
   ]
  }
 ],
 "metadata": {
  "kernelspec": {
   "display_name": "Python 2",
   "language": "python",
   "name": "python2"
  },
  "language_info": {
   "codemirror_mode": {
    "name": "ipython",
    "version": 2
   },
   "file_extension": ".py",
   "mimetype": "text/x-python",
   "name": "python",
   "nbconvert_exporter": "python",
   "pygments_lexer": "ipython2",
   "version": "2.7.12"
  }
 },
 "nbformat": 4,
 "nbformat_minor": 0
}
